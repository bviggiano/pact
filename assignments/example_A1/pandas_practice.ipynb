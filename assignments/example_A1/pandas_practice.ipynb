{
 "cells": [
  {
   "cell_type": "markdown",
   "metadata": {},
   "source": [
    "# Pandas Practice 🐼"
   ]
  },
  {
   "cell_type": "markdown",
   "metadata": {},
   "source": [
    "## `ANSWER_KEY_CELL`\n",
    "⚠️ NOTE: This is the answer key version of this assignment. ⚠️\n",
    "Cells that contain the text \"`ANSWER_KEY_CELL`\" will be removed by the conversion script to generate a version of this assignment that is ready to distribute to students."
   ]
  },
  {
   "cell_type": "markdown",
   "metadata": {},
   "source": [
    "## Learning Objective 🌱\n",
    "In this assignment, you will practice utilizing the Pandas library to analyze data. Pandas is a powerful data manipulation library that provides data structures and functions to make data analysis fast and easy in Python."
   ]
  },
  {
   "cell_type": "markdown",
   "metadata": {},
   "source": [
    "## Resources 📚\n",
    "Pandas Cheat Sheet 🐼: [https://pandas.pydata.org/Pandas_Cheat_Sheet.pdf](https://pandas.pydata.org/Pandas_Cheat_Sheet.pdf)"
   ]
  },
  {
   "cell_type": "markdown",
   "metadata": {},
   "source": [
    "## Set Up 🚧\n",
    "\n",
    "Before we get started, make sure you have created the conda environment for this assignment by following the instructions in the README and ensure that your `ipynb` (this notebook) kernel is set to use the correct environment. Depending on which IDE you are using to run this notebook, the steps to do this may vary."
   ]
  },
  {
   "cell_type": "code",
   "execution_count": null,
   "metadata": {},
   "outputs": [],
   "source": [
    "# Run this cell: \n",
    "# The lines below will instruct jupyter to reload imported modules before \n",
    "# executing code cells. This enables you to quickly iterate and test revisions\n",
    "# to your code without having to restart the kernel and reload all of your \n",
    "# modules each time you make a code change in a separate python file.\n",
    "\n",
    "%load_ext autoreload\n",
    "%autoreload 2"
   ]
  },
  {
   "cell_type": "code",
   "execution_count": null,
   "metadata": {},
   "outputs": [],
   "source": [
    "# Run this cell to ensure the environment is setup properly\n",
    "import pandas as pd\n",
    "import timeit\n",
    "\n",
    "print(\"Sanity check: Success\")"
   ]
  },
  {
   "cell_type": "markdown",
   "metadata": {},
   "source": [
    "### Load Data 📊\n",
    "\n",
    "Let's load in the data we are going to be working with in this assignment. Run the cell below to load the data."
   ]
  },
  {
   "cell_type": "code",
   "execution_count": null,
   "metadata": {},
   "outputs": [],
   "source": [
    "# Run this cell to create a dataframe to use in the exercises. You do not need to modify code in this cell.\n",
    "poke_df = pd.read_csv('data/pokemon.csv')\n",
    "\n",
    "poke_df.head(n = 10)"
   ]
  },
  {
   "cell_type": "markdown",
   "metadata": {},
   "source": [
    "### `Q1`\n",
    "Briefly describe the contents and structure of the dataframe."
   ]
  },
  {
   "cell_type": "markdown",
   "metadata": {},
   "source": [
    "<span style=\"color:blue;\">\n",
    "YOUR ANSWER HERE\n",
    "</span>"
   ]
  },
  {
   "cell_type": "markdown",
   "metadata": {},
   "source": [
    "#### Q1 `ANSWER_KEY`\n",
    "\n",
    "<span style=\"color:red;\">\n",
    "The dataframe contains information about Pokemon, including their names, types, and various statistics.\n",
    "</span>\n",
    "\n",
    "<br></br>\n",
    "\n",
    "> This is an example of a way to structure written answers in ipynb files. This cell (which contains the answer) will not appear in the student version of the assignment since it is marked with the `ANSWER_KEY` tag."
   ]
  },
  {
   "cell_type": "markdown",
   "metadata": {},
   "source": [
    "# Part 1: Assigning Values 📝\n",
    "\n",
    "A Pokémon's `speed` stat determines how quickly it can act in battle, which determines the order in which Pokémon attack. In competitive play, any Pokémon with a Speed stat above 100 is typically considered fast. Pokémon with Speed stats around 120 or higher are often among the fastest in most games.\n",
    "\n",
    "### `Q2`\n",
    "To start, let's implement a function that uses a loop to determine which Pokémon in the dataset have a `speed` stat greater than 100. In the `src` folder you will find a file called `naive.py` that contains the function `check_speed_loop`. Complete the function following the instructions in the file."
   ]
  },
  {
   "cell_type": "code",
   "execution_count": null,
   "metadata": {},
   "outputs": [],
   "source": [
    "# Run this cell after you have completed the check_speed_loop function in example_A1/src/naive.py\n",
    "from src.naive import check_speed_loop\n",
    "\n",
    "# Determine which Pokemon are considered fast\n",
    "speed_output = check_speed_loop(poke_df, speed_min=100)\n",
    "\n",
    "# Sanity Check\n",
    "assert len(speed_output) == len(poke_df), f\"Output should have {len(poke_df)} elements, but has {len(speed_output)} elements instead.\"\n",
    "assert speed_output['is_fast'].sum() == 106, f\"Expected 106 fast pokemon, but got {speed_output['is_fast'].sum()} instead.\"\n",
    "print(\"Sanity check: Success\")\n",
    "\n",
    "# Let's see how many Pokemon are considered fast\n",
    "print(f\"{speed_output['is_fast'].sum()} / {len(speed_output)} Pokemon are considered fast.\")"
   ]
  },
  {
   "cell_type": "markdown",
   "metadata": {},
   "source": [
    "Let's take a look at how we can achieve the same result through vectorization utilizing vectorized opperations in pandas!\n",
    "\n",
    "## Vectorized Logical Operators in pandas 🐼\n",
    "\n",
    "Pandas, in combination with NumPy, provides a suite of vectorized logical operators, which allow for element-wise logical operations across data structures like Series and DataFrames. These operations are highly optimized and perform much faster than their loop-based counterparts, especially on large datasets. Below, we explore how these binary operators are used in Pandas.\n",
    "\n",
    "Operators and Their Usage:\n",
    "1. `&` (AND): This operator is used to combine two conditions, where both must be true for the resulting condition to be true. It's equivalent to the logical and in Python but is used element-wise across Pandas objects.\n",
    "\n",
    "2. `|` (OR): This operator is used to combine two conditions, where at least one condition must be true for the resulting condition to be true. It's the element-wise equivalent of the logical or.\n",
    "\n",
    "3. `~` (NOT): This operator is used to invert the truth value of each element. It flips True to False and vice versa, functioning as the element-wise logical negation.\n",
    "\n",
    "4. `==` (EQUALS): This operator checks if elements from two arrays or a DataFrame column and a scalar are equal on an element-wise basis.\n",
    "\n",
    "5. `!=` (NOT EQUALS): This operator checks if elements are not equal on an element-wise basis.\n",
    "\n"
   ]
  },
  {
   "cell_type": "markdown",
   "metadata": {},
   "source": [
    ">When using these operators, especially in complex expressions, it is crucial to wrap individual conditions in parentheses to ensure proper evaluation order. This requirement stems from Python's operator precedence rules, where bitwise operations like & and | are evaluated before comparison operations like > or <."
   ]
  },
  {
   "cell_type": "markdown",
   "metadata": {},
   "source": [
    "Let's implement the same function as above, but this time using vectorized operations in pandas. Complete the function `check_speed_vectorized` in `/src/vectorized.py` following the instructions in the file."
   ]
  },
  {
   "cell_type": "code",
   "execution_count": null,
   "metadata": {},
   "outputs": [],
   "source": [
    "# Run this cell after you have completed the check_speed_loop function in example_A1/src/vectorized.py\n",
    "from src.vectorized import check_speed_vectorized\n",
    "\n",
    "# Determine which Pokemon are considered fast\n",
    "speed_output = check_speed_vectorized(poke_df, speed_min=100)\n",
    "\n",
    "# Sanity Check\n",
    "assert len(speed_output) == len(poke_df), f\"Output should have {len(poke_df)} elements, but has {len(speed_output)} elements instead.\"\n",
    "assert speed_output['is_fast'].sum() == 106, f\"Expected 106 fast pokemon, but got {speed_output['is_fast'].sum()} instead.\"\n",
    "print(\"Sanity check: Success\")\n",
    "\n",
    "# Let's see how many Pokemon are considered fast\n",
    "print(f\"{speed_output['is_fast'].sum()} / {len(speed_output)} Pokemon are considered fast.\")"
   ]
  },
  {
   "cell_type": "markdown",
   "metadata": {},
   "source": [
    "## Comparing Performance 📊\n",
    "Now that we have both functions implemented, let's compare their performance using the `timeit` module. We will use the `timeit` module to measure the time taken by each function to execute and compare the results."
   ]
  },
  {
   "cell_type": "code",
   "execution_count": null,
   "metadata": {},
   "outputs": [],
   "source": [
    "# First, let's make a longer version of our dataframe by repeating it 100 times.\n",
    "# This will allow us to see a more pronounced difference in speed between the two implementations.\n",
    "\n",
    "poke_df_long = pd.concat([poke_df]*100, ignore_index=True)\n",
    "\n",
    "print(f\"Original dataframe length: {len(poke_df)}\")\n",
    "print(f\"Long dataframe length: {len(poke_df_long)}\")"
   ]
  },
  {
   "cell_type": "code",
   "execution_count": null,
   "metadata": {},
   "outputs": [],
   "source": [
    "# Now, let's compare the speed of the two implementations using the long dataframe.\n",
    "print(\"Starting timer for naive implementation...\")\n",
    "naive_time = timeit.timeit(lambda: check_speed_loop(poke_df_long, speed_min=100), number=10)\n",
    "print(\"Completed naive implementation\")\n",
    "\n",
    "print(\"Starting timer for vectorized implementation...\")\n",
    "vectorized_time = timeit.timeit(lambda: check_speed_vectorized(poke_df_long, speed_min=100), number=10)\n",
    "print(\"Completed vectorized implementation\")\n",
    "\n",
    "print(f\"Naive implementation time: {naive_time}\")\n",
    "print(f\"Vectorized implementation time: {vectorized_time}\")"
   ]
  },
  {
   "cell_type": "markdown",
   "metadata": {},
   "source": [
    "### `Q2`\n",
    "How do the two functions compare in terms of performance? Which function is faster?"
   ]
  },
  {
   "cell_type": "markdown",
   "metadata": {},
   "source": [
    "<span style=\"color:blue;\">\n",
    "YOUR ANSWER HERE\n",
    "</span>"
   ]
  },
  {
   "cell_type": "markdown",
   "metadata": {},
   "source": [
    "#### Q2 `ANSWER_KEY`\n",
    "\n",
    "The vectorized function is significantly faster than the loop-based function. The vectorized function is faster because it leverages optimized pre-compiled C-based operations to perform element-wise logical operations across the DataFrame, while the loop-based function iterates over each row, which is less efficient."
   ]
  },
  {
   "cell_type": "markdown",
   "metadata": {},
   "source": [
    "### `Q3`\n",
    "How many pokemon are both legendary and have a speed stat greater than 100? Use binary operators to find the answer.\n",
    "\n",
    ">Use the cell below to write the code to answer this question.\n"
   ]
  },
  {
   "cell_type": "code",
   "execution_count": null,
   "metadata": {},
   "outputs": [],
   "source": [
    "# TODO: Implement code here to answer the above question\n",
    "\n",
    "# STUDENT_CODE_START\n",
    "\n",
    "fast_legendaries = poke_df[(poke_df['Legendary']) & (poke_df[\"is_fast\"])]\n",
    "\n",
    "print(f\"There are {len(fast_legendaries)} fast legendary Pokemon.\")\n",
    "\n",
    "# STUDENT_CODE_END"
   ]
  },
  {
   "cell_type": "markdown",
   "metadata": {},
   "source": [
    "### Type Filtering 🧬\n",
    "\n",
    "Pokemon can have multiple types, which are listed in our DataFrame in two separate columns. Let's implement a function that filters the DataFrame to only include Pokemon that have a specific type (regardless of whether it's the primary or secondary type)."
   ]
  },
  {
   "cell_type": "code",
   "execution_count": null,
   "metadata": {},
   "outputs": [],
   "source": [
    "# Implement the function filter_by_type in src/key_vectorized.py. When you are done with your implementation,\n",
    "# run the cell below to test your function.\n",
    "from src.vectorized import filter_by_type\n",
    "\n",
    "poison_pokemon = filter_by_type(poke_df, 'Poison')\n",
    "\n",
    "# Sanity Check\n",
    "assert len(poison_pokemon) == 62, f\"Expected 62 Poison-type Pokemon, but got {len(poison_pokemon)} instead.\"\n",
    "\n",
    "print(f\"There are {len(poison_pokemon)} Poison-type Pokemon.\")"
   ]
  },
  {
   "cell_type": "markdown",
   "metadata": {},
   "source": [
    "## String Operations\n",
    "\n",
    "Pandas provides a variety of string methods that can be used in a vectorized manner. Let's implement a few functions that allow us to explore the dataset further!"
   ]
  },
  {
   "cell_type": "markdown",
   "metadata": {},
   "source": [
    "## Mega Evolutions 🧬\n",
    "\n",
    "Some Pokémon have a special temporary form called a \"Mega Evolution\". This form can significantly change a Pokémon's appearance, stats, and abilities. Unfortunately, the dataset we are working with does not explicitly indicate if a Pokémon is a Mega Evolution. However, we can infer this information from the Pokémon's name."
   ]
  },
  {
   "cell_type": "code",
   "execution_count": null,
   "metadata": {},
   "outputs": [],
   "source": [
    "# Implement the function check_mega_evo in src/key_vectorized.py. When you are done with your implementation,\n",
    "# run the cell below to test your function.\n",
    "\n",
    "from src.vectorized import check_mega_evo\n",
    "\n",
    "mega_pokemon = check_mega_evo(poke_df)"
   ]
  }
 ],
 "metadata": {
  "kernelspec": {
   "display_name": "example_A1",
   "language": "python",
   "name": "python3"
  },
  "language_info": {
   "codemirror_mode": {
    "name": "ipython",
    "version": 3
   },
   "file_extension": ".py",
   "mimetype": "text/x-python",
   "name": "python",
   "nbconvert_exporter": "python",
   "pygments_lexer": "ipython3",
   "version": "3.11.9"
  }
 },
 "nbformat": 4,
 "nbformat_minor": 2
}
