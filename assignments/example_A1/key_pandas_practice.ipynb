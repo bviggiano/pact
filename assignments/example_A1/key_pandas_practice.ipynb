{
 "cells": [
  {
   "cell_type": "markdown",
   "metadata": {},
   "source": [
    "# Pandas: Vectorization Practice 🐼"
   ]
  },
  {
   "cell_type": "markdown",
   "metadata": {},
   "source": [
    "## `ANSWER_KEY`\n",
    "⚠️ NOTE: This is the answer key version of this assignment. ⚠️\n",
    "Cells that contain the text \"`ANSWER_KEY`\" will be removed by the conversion script to generate a version of this assignment that is ready to distribute to students."
   ]
  },
  {
   "cell_type": "markdown",
   "metadata": {},
   "source": [
    "## Learning Objective 🌱\n",
    "In this assignment, you will gain experience with vectorized operations in Pandas, and compare the performance of vectorized operations with their non-vectorized counterparts."
   ]
  },
  {
   "cell_type": "markdown",
   "metadata": {},
   "source": [
    "## Resources 📚\n",
    "Pandas Cheat Sheet 🐼: [https://pandas.pydata.org/Pandas_Cheat_Sheet.pdf](https://pandas.pydata.org/Pandas_Cheat_Sheet.pdf)"
   ]
  },
  {
   "cell_type": "markdown",
   "metadata": {},
   "source": [
    "# Vectorization practice\n",
    "One of the most common tasks in data analysis is to assign values or filter data based on certain conditions. Logical element-wise operators in pandas allow us to do just that, and they are much faster than using loops, the pandas apply function, or list comprehensions because they utilize `vectorization`."
   ]
  },
  {
   "cell_type": "markdown",
   "metadata": {},
   "source": [
    "### What is vectorization?\n",
    "Vectorization refers to the practice of using optimized pre-compiled C-based operations to perform operations on data structures like arrays or data frames. This approach is at the heart of the performance benefits observed in libraries like pandas and NumPy. When you use native pandas or NumPy operations, they are generally vectorized by default, which means they're optimized for performance and can handle operations on large datasets **much faster** than conventional loops."
   ]
  },
  {
   "cell_type": "code",
   "execution_count": null,
   "metadata": {
    "vscode": {
     "languageId": "plaintext"
    }
   },
   "outputs": [],
   "source": []
  }
 ],
 "metadata": {
  "language_info": {
   "name": "python"
  }
 },
 "nbformat": 4,
 "nbformat_minor": 2
}
