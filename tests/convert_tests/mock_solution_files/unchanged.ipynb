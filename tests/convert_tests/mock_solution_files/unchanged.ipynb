{
 "cells": [
  {
   "cell_type": "markdown",
   "metadata": {},
   "source": [
    "# This is a mock solution file that is used to test the FileConverter class.\n",
    "### This file should not be modified by the conversion process."
   ]
  },
  {
   "cell_type": "markdown",
   "metadata": {},
   "source": [
    "                    .==.\n",
    "                   ()''()-.\n",
    "        .---.       ;--; /\n",
    "      .'_:___\". _..'.  __'.\n",
    "      |__ --==|'-''' \\'...;\n",
    "      [  ]  :[|       |---\\\n",
    "      |__| I=[|     .'    '.\n",
    "      / / ____|     :       '._\n",
    "     |-/.____.'      | :       :\n",
    "    /___\\ /___\\      '-'._----'"
   ]
  },
  {
   "cell_type": "code",
   "execution_count": null,
   "metadata": {},
   "outputs": [],
   "source": [
    "           __\n",
    ".-.__      \\ .-.  ___  __\n",
    "|_|  '--.-.-(   \\/\\;;\\_\\.-._______.-.\n",
    "(-)___     \\ \\ .-\\ \\;;\\(   \\       \\ \\\n",
    " Y    '---._\\_((Q)) \\;;\\\\ .-\\     __(_)\n",
    " I           __'-' / .--.((Q))---'    \\,\n",
    " I     ___.-:    \\|  |   \\'-'_          \\\n",
    " A  .-'      \\ .-.\\   \\   \\ \\ '--.__     '\\\n",
    " |  |____.----((Q))\\   \\__|--\\_      \\     '\n",
    "    ( )        '-'  \\_  :  \\-' '--.___\\\n",
    "     Y                \\  \\  \\       \\(_)\n",
    "     I                 \\  \\  \\         \\,\n",
    "     I                  \\  \\  \\          \\\n",
    "     A                   \\  \\  \\          '\\\n",
    "     |                    \\  \\__|           '\n",
    "                           \\_:.  \\\n",
    "                             \\ \\  \\\n",
    "                              \\ \\  \\\n",
    "                               \\_\\_|"
   ]
  },
  {
   "cell_type": "code",
   "execution_count": null,
   "metadata": {},
   "outputs": [],
   "source": [
    "                       .-.\n",
    "                      |_:_|\n",
    "                     /(_Y_)\\\n",
    ".                   ( \\/M\\/ )\n",
    " '.               _.'-/'-'\\-'._\n",
    "   ':           _/.--'[[[[]'--.\\_\n",
    "     ':        /_'  : |::\"| :  '.\\\n",
    "       ':     //   ./ |oUU| \\.'  :\\\n",
    "         ':  _:'..' \\_|___|_/ :   :|\n",
    "           ':.  .'  |_[___]_|  :.':\\\n",
    "            [::\\ |  :  | |  :   ; : \\\n",
    "             '-'   \\/'.| |.' \\  .;.' |\n",
    "             |\\_    \\  '-'   :       |\n",
    "             |  \\    \\ .:    :   |   |\n",
    "             |   \\    | '.   :    \\  |\n",
    "             /       \\   :. .;       |\n",
    "            /     |   |  :__/     :  \\\\\n",
    "           |  |   |    \\:   | \\   |   ||\n",
    "          /    \\  : :  |:   /  |__|   /|\n",
    "          |     : : :_/_|  /'._\\  '--|_\\\n",
    "          /___.-/_|-'   \\  \\\n",
    "                         '-'"
   ]
  }
 ],
 "metadata": {
  "kernelspec": {
   "display_name": "pact_env",
   "language": "python",
   "name": "python3"
  },
  "language_info": {
   "codemirror_mode": {
    "name": "ipython",
    "version": 3
   },
   "file_extension": ".py",
   "mimetype": "text/x-python",
   "name": "python",
   "nbconvert_exporter": "python",
   "pygments_lexer": "ipython3",
   "version": "3.11.9"
  }
 },
 "nbformat": 4,
 "nbformat_minor": 2
}
